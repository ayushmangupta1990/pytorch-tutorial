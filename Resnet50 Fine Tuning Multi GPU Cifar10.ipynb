{
 "cells": [
  {
   "cell_type": "code",
   "execution_count": null,
   "metadata": {},
   "outputs": [],
   "source": []
  },
  {
   "cell_type": "code",
   "execution_count": 13,
   "metadata": {},
   "outputs": [],
   "source": [
    "import torch \n",
    "import torch.nn as nn\n",
    "import torchvision\n",
    "import numpy as np\n",
    "from torchvision.transforms import transforms\n",
    "from torch import optim\n",
    "from torch.optim import lr_scheduler\n",
    "import time\n",
    "import copy"
   ]
  },
  {
   "cell_type": "code",
   "execution_count": 14,
   "metadata": {},
   "outputs": [],
   "source": [
    "net =torchvision.models.resnet50(pretrained='imagenet')"
   ]
  },
  {
   "cell_type": "code",
   "execution_count": 15,
   "metadata": {},
   "outputs": [],
   "source": [
    "for params in net.parameters():\n",
    "    params.requires_grad = True"
   ]
  },
  {
   "cell_type": "code",
   "execution_count": 16,
   "metadata": {},
   "outputs": [],
   "source": [
    "\n",
    "net.fc = nn.Linear(net.fc.in_features,10)"
   ]
  },
  {
   "cell_type": "code",
   "execution_count": 20,
   "metadata": {},
   "outputs": [],
   "source": [
    "model = torch.nn.DataParallel(net).to('cuda')"
   ]
  },
  {
   "cell_type": "code",
   "execution_count": null,
   "metadata": {},
   "outputs": [],
   "source": [
    "#net = torch.nn.DataParallel(model)"
   ]
  },
  {
   "cell_type": "code",
   "execution_count": null,
   "metadata": {},
   "outputs": [],
   "source": [
    "criterion = nn.CrossEntropyLoss()"
   ]
  },
  {
   "cell_type": "code",
   "execution_count": null,
   "metadata": {},
   "outputs": [],
   "source": [
    "optimizer = optim.SGD(net.parameters(),lr=.001,momentum=0.9)\n",
    "exp_lr_scheduler = lr_scheduler.StepLR(optimizer, step_size=7, gamma=0.1)"
   ]
  },
  {
   "cell_type": "code",
   "execution_count": null,
   "metadata": {},
   "outputs": [],
   "source": [
    "data_trainsformation = {'train' : transforms.Compose([\n",
    "    transforms.RandomResizedCrop(224),\n",
    "    transforms.RandomHorizontalFlip(),\n",
    "    transforms.ToTensor(),\n",
    "    transforms.Normalize((0.4914, 0.4822, 0.4465), (0.2023, 0.1994, 0.2010)),\n",
    "]),\n",
    "\n",
    "'val': transforms.Compose([\n",
    "    transforms.Resize(224),\n",
    "    transforms.ToTensor(),\n",
    "    transforms.Normalize((0.4914, 0.4822, 0.4465), (0.2023, 0.1994, 0.2010)),\n",
    "])}"
   ]
  },
  {
   "cell_type": "code",
   "execution_count": null,
   "metadata": {},
   "outputs": [],
   "source": [
    "trainset = torchvision.datasets.CIFAR10(root='data', train=True, download=True, transform=data_trainsformation['train'])\n",
    "\n",
    "\n",
    "testset = torchvision.datasets.CIFAR10(root='data', train=False, download=True, transform=data_trainsformation['val'])\n",
    "\n",
    "dataloader =  {'train': torch.utils.data.DataLoader(trainset, batch_size=128, shuffle=True, num_workers=2),\n",
    "'val':torch.utils.data.DataLoader(testset, batch_size=100, shuffle=False, num_workers=2)}\n",
    "\n",
    "datasizes ={'train':len(trainset),'val':len(testset)}\n",
    "\n",
    "# classes = (beaver, dolphin, otter, seal, whale, \n",
    "# aquarium fish, flatfish, ray, shark, trout, \n",
    "# orchids, poppies, roses, sunflowers, tulips, \n",
    "# bottles, bowls, cans, cups, plates, \n",
    "# apples, mushrooms, oranges, pears, sweet peppers, \n",
    "# clock, computer keyboard, lamp, telephone, television, \n",
    "# bed, chair, couch, table, wardrobe, \n",
    "# bee, beetle, butterfly, caterpillar, cockroach, \n",
    "# bear, leopard, lion, tiger, wolf, \n",
    "# bridge, castle, house, road, skyscraper, \n",
    "# cloud, forest, mountain, plain, sea, \n",
    "# camel, cattle, chimpanzee, elephant, kangaroo, \n",
    "# fox, porcupine, possum, raccoon, skunk, \n",
    "# crab, lobster, snail, spider, worm, \n",
    "# baby, boy, girl, man, woman, \n",
    "# crocodile, dinosaur, lizard, snake, turtle, \n",
    "# hamster, mouse, rabbit, shrew, squirrel, \n",
    "# maple, oak, palm, pine, willow, \n",
    "# bicycle, bus, motorcycle, pickup truck, train, \n",
    "# lawn-mower, rocket, streetcar, tank, tractor"
   ]
  },
  {
   "cell_type": "code",
   "execution_count": 18,
   "metadata": {},
   "outputs": [],
   "source": [
    "def train_model(model,criterian,optimizer,scheduler,num_epochs=15):\n",
    "    \n",
    "    \n",
    "    best_model_wts = copy.deepcopy(model.state_dict())\n",
    "    best_acc = 0.0\n",
    "    \n",
    "    for epoch in range(num_epochs):\n",
    "        since = time.time()\n",
    "        for phase in ['train','val']:\n",
    "            if phase == 'train':\n",
    "                model.train()\n",
    "            else:\n",
    "                model.eval()\n",
    "            \n",
    "            running_loss     = 0.00\n",
    "            running_corrects = 0\n",
    "            \n",
    "    \n",
    "            for inputs,labels in dataloader[phase]:\n",
    "\n",
    "                inputs,labels = inputs.to('cuda'),labels.to('cuda')\n",
    "                optimizer.zero_grad()\n",
    "\n",
    "                with torch.set_grad_enabled(phase == 'train'):\n",
    "                    \n",
    "                    outputs = model(inputs)\n",
    "                    _,pred = torch.max(outputs,1)\n",
    "                    loss = criterion(outputs,labels)\n",
    "                    if phase == 'train':\n",
    "                        loss.backward()\n",
    "                        optimizer.step()\n",
    "\n",
    "                running_loss += loss.item() * inputs.size(0)\n",
    "                running_corrects += torch.sum(pred==labels.data)\n",
    "\n",
    "\n",
    "            epoch_loss = running_loss/ datasizes[phase]\n",
    "            epoch_acc  = running_corrects.double()/datasizes[phase]\n",
    "            \n",
    "            if phase == 'val' and epoch_acc > best_acc:\n",
    "                best_acc = epoch_acc\n",
    "                best_model_wts = copy.deepcopy(model.state_dict())\n",
    "                \n",
    "                \n",
    "            time_elapsed = time.time() - since\n",
    "            print('This epoch complete in {:.0f}m {:.0f}s'.format(time_elapsed // 60, time_elapsed % 60))\n",
    "        #print('total Acc {}'.format(total_acc.item()))\n",
    "        print('Epoch: {} | {} Loss: {:.4f} Acc: {:.4f}'.format(epoch+1,phase, epoch_loss, epoch_acc))\n",
    "    \n",
    "    \n",
    "    model.load_state_dict(best_model_wts)\n",
    "    return model\n",
    "\n",
    "        "
   ]
  },
  {
   "cell_type": "code",
   "execution_count": null,
   "metadata": {},
   "outputs": [],
   "source": [
    "best_model_  = train_model(model,criterion,optimizer,exp_lr_scheduler,num_epochs=15)"
   ]
  },
  {
   "cell_type": "code",
   "execution_count": null,
   "metadata": {},
   "outputs": [],
   "source": []
  }
 ],
 "metadata": {
  "kernelspec": {
   "display_name": "Python 3",
   "language": "python",
   "name": "python3"
  },
  "language_info": {
   "codemirror_mode": {
    "name": "ipython",
    "version": 3
   },
   "file_extension": ".py",
   "mimetype": "text/x-python",
   "name": "python",
   "nbconvert_exporter": "python",
   "pygments_lexer": "ipython3",
   "version": "3.5.2"
  }
 },
 "nbformat": 4,
 "nbformat_minor": 2
}
